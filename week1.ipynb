{
  "cells": [
    {
      "cell_type": "markdown",
      "source": [
        "# ***DAY:1***(09/07/2024)\n",
        "\n",
        "Selection Statements\n"
      ],
      "metadata": {
        "id": "eYCSfsJsXlba"
      }
    },
    {
      "cell_type": "code",
      "execution_count": null,
      "metadata": {
        "colab": {
          "base_uri": "https://localhost:8080/"
        },
        "id": "s4SHugDjJ2tF",
        "outputId": "5bea6ef3-fcd4-4fc1-fa63-2cfc5b2b70b6"
      },
      "outputs": [
        {
          "output_type": "stream",
          "name": "stdout",
          "text": [
            "enter time in seconds 7340\n",
            "2 2 20\n"
          ]
        }
      ],
      "source": [
        "#Ques: To display the input time (in sec) into Hour:Minute:Second\n",
        "\n",
        "time= int(input(\"enter time in seconds \"))\n",
        "if ((time>=0)):\n",
        "    hour=0\n",
        "    min=0\n",
        "    #conversion of second in hour\n",
        "    if(time>=3600):\n",
        "      hour=time//3600\n",
        "      time=time%3600\n",
        "    #conversion of second in minute\n",
        "    if(time>=60):\n",
        "      min=time//60\n",
        "      time=time%60\n",
        "    print(hour,min,time)\n",
        "else:\n",
        "    print(\"time must be positive\")\n"
      ]
    },
    {
      "cell_type": "markdown",
      "source": [
        "finding the greatest number Between two"
      ],
      "metadata": {
        "id": "eoh8X-h3YGg_"
      }
    },
    {
      "cell_type": "code",
      "execution_count": null,
      "metadata": {
        "colab": {
          "base_uri": "https://localhost:8080/"
        },
        "id": "4ufB9uqaYxpE",
        "outputId": "a851f41f-6299-40a9-b651-3360f0fe47b3"
      },
      "outputs": [
        {
          "output_type": "stream",
          "name": "stdout",
          "text": [
            "enter 1st number 78\n",
            "enter 2nd number 79\n",
            "The greatest number is: 79\n"
          ]
        }
      ],
      "source": [
        "num1=int(input(\"enter 1st number \"))\n",
        "num2=int(input(\"enter 2nd number \"))\n",
        "\n",
        "if num1 > num2:\n",
        "    greatest = num1\n",
        "else:\n",
        "    if num2 > num1:\n",
        "        greatest = num2\n",
        "    else:\n",
        "        greatest = \"Both numbers are equal\"\n",
        "\n",
        "print(\"The greatest number is:\", greatest)"
      ]
    },
    {
      "cell_type": "markdown",
      "source": [
        "# **DAY:2**(10/07/2024)\n",
        "\n",
        "\n",
        "\n"
      ],
      "metadata": {
        "id": "NQfWqufWY_04"
      }
    },
    {
      "cell_type": "code",
      "execution_count": null,
      "metadata": {
        "id": "TSFCzNPGcDxu",
        "colab": {
          "base_uri": "https://localhost:8080/"
        },
        "outputId": "d66811ec-919c-4388-946b-b4c74f7e1b05"
      },
      "outputs": [
        {
          "output_type": "stream",
          "name": "stdout",
          "text": [
            "enter cost price (in Rs):  87\n",
            "enter selling price (in Rs): 89\n",
            "profit: Rs 2.0\n"
          ]
        }
      ],
      "source": [
        "#Ques: Given the Cost Price(CP) and Selling Price(SP) of a product. The task is to Calculate the Profit or Loss\n",
        "\n",
        "cp=float(input(\"enter cost price (in Rs):  \" ))\n",
        "sp=float(input(\"enter selling price (in Rs): \"))\n",
        "if(cp<0 ):\n",
        "    print(\"invalid cost price\")\n",
        "elif(sp<0):\n",
        "    print(\"invalid selling price\")\n",
        "else:\n",
        "    if(cp>sp):\n",
        "      print(\"loss: Rs\", (cp-sp))\n",
        "    elif(cp<sp):\n",
        "      print(\"profit: Rs\", (sp-cp))\n",
        "    else:\n",
        "      print(\"no profit no loss\")\n"
      ]
    },
    {
      "cell_type": "markdown",
      "source": [
        "# **DAY:3(11/07/2024)**\n",
        "\n",
        "------------------------------------------------------------------------------\n",
        "**Iteration**\n",
        "-> To Repeat Statements or Group OF Statements Until The Condition is False.\n",
        "\n",
        "**For Loop:** used when we know the number of iteration.\n",
        "\n",
        "   **Components of For Loop:**\n",
        "*   Initialization\n",
        "*   Condition\n",
        "*   Updation\n",
        "\n",
        "**Syntax:**\n",
        "\n",
        "```\n",
        "for variable in sequence:\n",
        "    #working\n",
        "\n",
        "```\n",
        "------------------------------------------------------------------------------\n",
        "\n",
        "**While Loop:** used when we don't know about the number of iteration.\n",
        "\n",
        "**Syntax:**\n",
        "\n",
        "\n",
        "```\n",
        "Intiialization\n",
        "while(condition):\n",
        "  #working\n",
        "  update\n",
        "```\n",
        "------------------------------------------------------------------------------\n",
        "\n",
        "**Range Function:** To Generate a Sequence of Numbers in Specified Range.\n",
        "\n",
        "**Syntax:**\n",
        "\n",
        "\n",
        "```\n",
        "variable = range(start,end,step)\n",
        "```\n",
        "\n",
        "*   **Start:** lowest or Beginning value. include in sequence.(Default value for the start is 0)\n",
        "* **End:** Highest or end value. Excluded in Sequence.\n",
        "*  **Step:** Gap Between Two numbers.(Default value is =+1)\n",
        "\n",
        "------------------------------------------------------------------------------\n",
        "\n",
        "\n",
        "**end variable in print function:** it is used as a seprator. Default value is is next line.\n",
        "\n",
        "\n",
        "```\n",
        "print(x , end=\" \")\n",
        "```\n",
        "\n",
        "\n",
        "\n",
        "\n",
        "\n",
        "\n",
        "\n",
        "\n",
        "\n",
        "\n",
        "\n",
        "\n",
        "\n",
        "\n",
        "\n",
        "\n",
        "\n",
        "\n",
        "\n",
        "\n",
        "\n",
        "\n",
        "\n"
      ],
      "metadata": {
        "id": "HxE-YqBTaLUA"
      }
    },
    {
      "cell_type": "code",
      "source": [
        "#sum of given list\n",
        "\n",
        "li=[80,90,30,20,70,80,39,87]\n",
        "sum=0\n",
        "for x in li:\n",
        "  sum=sum+x\n",
        "print(sum)"
      ],
      "metadata": {
        "colab": {
          "base_uri": "https://localhost:8080/"
        },
        "id": "f-bMf_naiyCU",
        "outputId": "a706351b-cca5-4996-b93b-322e729914ff"
      },
      "execution_count": null,
      "outputs": [
        {
          "output_type": "stream",
          "name": "stdout",
          "text": [
            "496\n"
          ]
        }
      ]
    },
    {
      "cell_type": "code",
      "source": [
        "#The numbers between 10 to 500 dividible by both 10 and 7\n",
        "for x in range(10,500):\n",
        "    if(x%7==0 and x%10==0):\n",
        "        print(\"The numbers between 10 to 500 dividible by both 10 and 7 are: \",x)\n"
      ],
      "metadata": {
        "colab": {
          "base_uri": "https://localhost:8080/"
        },
        "id": "IJeDRJhx28IP",
        "outputId": "ec095206-6333-4897-ce9a-76eddd94e96d"
      },
      "execution_count": null,
      "outputs": [
        {
          "output_type": "stream",
          "name": "stdout",
          "text": [
            "The numbers between 10 to 500 dividible by both 10 and 7 are:  70\n",
            "The numbers between 10 to 500 dividible by both 10 and 7 are:  140\n",
            "The numbers between 10 to 500 dividible by both 10 and 7 are:  210\n",
            "The numbers between 10 to 500 dividible by both 10 and 7 are:  280\n",
            "The numbers between 10 to 500 dividible by both 10 and 7 are:  350\n",
            "The numbers between 10 to 500 dividible by both 10 and 7 are:  420\n",
            "The numbers between 10 to 500 dividible by both 10 and 7 are:  490\n"
          ]
        }
      ]
    },
    {
      "cell_type": "code",
      "source": [
        "#count the numbers between 100 to 1000 which is even and divisible by 3\n",
        "\n",
        "count=0\n",
        "for x in range(100,1000):\n",
        "  if(x%2==0 and x%3==0):\n",
        "      print(x, end=\",\")\n",
        "      count=count+1\n",
        "print(\"\\nThe number of numbers between 100 to 1000 which is even and divisible by 3 are: \",count)"
      ],
      "metadata": {
        "colab": {
          "base_uri": "https://localhost:8080/"
        },
        "id": "fnb2lsLRjhHv",
        "outputId": "4b44dd04-13b4-4c53-d1bc-47a105e57b8b"
      },
      "execution_count": null,
      "outputs": [
        {
          "output_type": "stream",
          "name": "stdout",
          "text": [
            "102,108,114,120,126,132,138,144,150,156,162,168,174,180,186,192,198,204,210,216,222,228,234,240,246,252,258,264,270,276,282,288,294,300,306,312,318,324,330,336,342,348,354,360,366,372,378,384,390,396,402,408,414,420,426,432,438,444,450,456,462,468,474,480,486,492,498,504,510,516,522,528,534,540,546,552,558,564,570,576,582,588,594,600,606,612,618,624,630,636,642,648,654,660,666,672,678,684,690,696,702,708,714,720,726,732,738,744,750,756,762,768,774,780,786,792,798,804,810,816,822,828,834,840,846,852,858,864,870,876,882,888,894,900,906,912,918,924,930,936,942,948,954,960,966,972,978,984,990,996,\n",
            "The number of numbers between 100 to 1000 which is even and divisible by 3 are:  150\n"
          ]
        }
      ]
    },
    {
      "cell_type": "markdown",
      "metadata": {
        "id": "4suQw-XkY2LO"
      },
      "source": [
        "# **DAY:4(12/07/2024)**\n",
        "\n",
        "# **Collection Datatype:**\n",
        "* It is the Collection of huge amount of data on a single name.\n",
        "\n",
        "\n",
        "#**LIST:**\n",
        "\n",
        "*   The list has lots of Operation among all the  sequence Datatypes.  \n",
        "*  List is Mutable.\n",
        "*  Collection of any type of data.\n",
        "*   In List, Elements follow Insertion order.\n",
        "\n",
        "*  Duplicate elements are allowed.\n",
        "\n",
        "*  Elements are sorted in Square Brackets[].\n",
        "\n",
        "**list creation:**\n",
        "\n",
        "     `list=[1,2,3,\"hello\"]`\n",
        "\n",
        "**Display list with format:**\n",
        "\n",
        "     `print(list)`\n",
        "\n",
        "**Display list without format:**\n",
        "\n",
        "     `print(*list)`\n",
        "\n",
        "**Display using for loop:**\n",
        "\n",
        "```\n",
        "for x in list:\n",
        "  print(list)\n",
        "\n",
        "```\n",
        "-----These three operation does not working with indexing------\n",
        "\n",
        "for loop does not reverse the element of a list\n",
        "\n",
        "# **OPERATION:**\n",
        "\n",
        "\n",
        "1.  Creation               \n",
        "2.  Traversal              \n",
        "3.  Insertion\n",
        "4.  Deletion\n",
        "5.  Sorting\n",
        "6.  Searching\n",
        "7.  Length(no. of elements)\n",
        "8.  Concatenation\n",
        "9.  Update\n",
        "10. slicing\n",
        "11. Indexing\n",
        "\n",
        "\n",
        "\n",
        "\n",
        "\n"
      ]
    },
    {
      "cell_type": "code",
      "execution_count": null,
      "metadata": {
        "colab": {
          "base_uri": "https://localhost:8080/"
        },
        "id": "9BUbCtCaZS5t",
        "outputId": "ee815dcc-6e9e-4c4a-a22f-583f21aa9b80"
      },
      "outputs": [
        {
          "output_type": "stream",
          "name": "stdout",
          "text": [
            "Display the list with formatting:  [1, 2, 3, 4, 'Hello']\n",
            "Display the list without formatting:\n",
            "1 2 3 4 Hello\n",
            "---Display the list by access member using for loop(ELEMENT BY ELEMENT): ---\n",
            "1\n",
            "2\n",
            "3\n",
            "4\n",
            "Hello\n"
          ]
        }
      ],
      "source": [
        "list=[1,2,3,4,\"Hello\"]\n",
        "print(\"Display the list with formatting: \",list)\n",
        "print(\"Display the list without formatting:\")\n",
        "print(*list)\n",
        "print(\"---Display the list by access member using for loop(ELEMENT BY ELEMENT): ---\")\n",
        "for x in list:\n",
        "  print(x)"
      ]
    },
    {
      "cell_type": "markdown",
      "metadata": {
        "id": "i143cCdgb-be"
      },
      "source": [
        "# **INDEXING**\n",
        "\n",
        "\n",
        "1.   Forward Indexing(default indexing)----->available in c,c++,java\n",
        "2.   Backward Indexing----->Python\n",
        "\n",
        "\n",
        "# **1. Forward Indexing**\n",
        "\n",
        "\n",
        "\n",
        "*   Default indexing from leftmost element to rightmost element\n",
        "*   Begin from 0\n",
        "*   Ends at (length-1)\n",
        "\n",
        "#**2. Backward Indexing**\n",
        "\n",
        "\n",
        "\n",
        "*   Right to Left\n",
        "*  Begins from -1 which is a index of rightmost element(last index)\n",
        "\n",
        "\n",
        "#**Fetching element from List**\n",
        "1. Single Element\n",
        "     variable = listname[index]\n",
        "2. Multiple Element (SLICING)\n",
        "     sublist = listname[start_index : end_index : step]\n",
        "\n",
        "\n",
        "\n",
        "\n"
      ]
    },
    {
      "cell_type": "code",
      "execution_count": null,
      "metadata": {
        "colab": {
          "base_uri": "https://localhost:8080/"
        },
        "id": "Kb4VQl-qgyag",
        "outputId": "1c890ffd-0036-48ef-98f6-72dab6e4efdd"
      },
      "outputs": [
        {
          "name": "stdout",
          "output_type": "stream",
          "text": [
            "Fetching 3rd Element: \n",
            "3\n",
            "fetching 4th element from last:\n",
            "hello\n",
            "Fetching elements from 3rd to 10th position:\n",
            "[3, 4, 5, 'hello', 'World', 6, 7]\n",
            "Fetching alternate elements from 3rd to 10th position:\n",
            "[3, 5, 'World', 7]\n"
          ]
        }
      ],
      "source": [
        "list=[1,2,3,4,5,\"hello\",\"World\",6,7]\n",
        "print(\"Fetching 3rd Element: \")\n",
        "print(list[2])\n",
        "print(\"fetching 4th element from last:\")\n",
        "print(list[-4])\n",
        "print(\"Fetching elements from 3rd to 10th position:\")\n",
        "print(list[2:10])\n",
        "print(\"Fetching alternate elements from 3rd to 10th position:\")\n",
        "print(list[2:10:2])\n"
      ]
    },
    {
      "cell_type": "code",
      "execution_count": null,
      "metadata": {
        "colab": {
          "base_uri": "https://localhost:8080/"
        },
        "id": "RHuh7kSeiS7t",
        "outputId": "be6796a0-6d4b-4e09-879c-259f8979e7ca"
      },
      "outputs": [
        {
          "name": "stdout",
          "output_type": "stream",
          "text": [
            "20,19,18,15,16,15,14,13,12,11,10,9,8,7,6,5,4,3,2,1,"
          ]
        }
      ],
      "source": [
        "#create a list of 20 numbers and print the number in backward direction using forward indexing\n",
        "list=[1,2,3,4,5,6,7,8,9,10,11,12,13,14,15,16,15,18,19,20]\n",
        "x=len(list)-1\n",
        "for i in range(x,-1,-1):\n",
        "  print(list[i],end=',')\n"
      ]
    },
    {
      "cell_type": "markdown",
      "metadata": {
        "id": "hN9wGBQ6oPW7"
      },
      "source": [
        "#Insertion of element in List\n",
        "1. Insertion at end\n",
        "   * **append() :** to insert only one element at end of the list\n",
        "        \n",
        "          `syntax:  \n",
        "              list_name.append(element)`\n",
        "\n",
        "    example:\n",
        "         list1=[1,2,3,4,5]\n",
        "         list2=[6,7,8,9,10]\n",
        "         print(list1.append(list2))\n",
        "   * **extend() :** to insert all the element of any sequence datatype.\n",
        "\n",
        "          `syntax:  \n",
        "                 list_name.extend(list_2)`\n",
        "\n",
        "    example:\n",
        "              list1=[1,2,3,4,5]\n",
        "              list2=[6,7,8,9,10]\n",
        "              print(list1.extend(list2))\n",
        "2. Insert element at specified position\n",
        "     * **insert() :** to insert element at specified position.\n",
        "\n",
        "           ` syntax: list_name.insert(index,element)`\n",
        "\n",
        "    example:\n",
        "        \n",
        "        ```\n",
        "         list1=[1,2,3,4,5]\n",
        "         print(list1.insert(3,67))\n",
        "        ```\n",
        "\n",
        "Advantage:\n",
        "if the element is already present at a particular index then system performs right shift opertion to shift the all elements from the right and vacant that position.\n",
        "\n",
        "   \n",
        "     \n",
        "\n",
        "\n",
        "\n"
      ]
    },
    {
      "cell_type": "code",
      "execution_count": null,
      "metadata": {
        "colab": {
          "base_uri": "https://localhost:8080/"
        },
        "id": "vgZuHDGqt3OG",
        "outputId": "a39705c0-bc82-46d2-c31e-49b430a69381"
      },
      "outputs": [
        {
          "name": "stdout",
          "output_type": "stream",
          "text": [
            "[1, 2, 3, 4, 5, 8, 9, 10]\n"
          ]
        }
      ],
      "source": [
        "#Ques: Find the method to insert all the element of another sequence datatype at particular index in the list. But all the element must be inserted one by one.\n",
        "list1=[1,2,3,4,8,9,10]\n",
        "list2=[5,6,7]\n",
        "list1.insert(-3,5)\n",
        "print(list1)\n"
      ]
    },
    {
      "cell_type": "markdown",
      "metadata": {
        "id": "TYm9fSPNwxiq"
      },
      "source": [
        "# **Removing element from List**\n",
        "1.   **pop() :** It is done all the two Deletion operations  from end and a specified position in a list.\n",
        "     \n",
        "        syntax:\n",
        "         listname.pop(index)\n",
        "     example:\n",
        "         list1=[1,2,3,4,5,6]\n",
        "         print(list1.pop(3))    \n",
        "2.  remove() : To delete the specified element in position of first occurence from left side.\n",
        "    \n",
        "     syntax:\n",
        "         list_name.remove(element)\n",
        "     example:\n",
        "         list1=[1,2,3,4,5,6]\n",
        "         print(list1.remove(3))\n",
        "3.  clear() : To delete all the element from the list.\n",
        "    \n",
        "     syntax:\n",
        "         list_name.clear(list)             \n",
        "\n",
        "\n",
        "\n",
        "\n",
        "\n"
      ]
    },
    {
      "cell_type": "code",
      "execution_count": null,
      "metadata": {
        "colab": {
          "base_uri": "https://localhost:8080/"
        },
        "id": "y68g9rcOaJ_b",
        "outputId": "4c205aeb-cb34-48a1-8a23-a0093a647372"
      },
      "outputs": [
        {
          "name": "stdout",
          "output_type": "stream",
          "text": [
            "enter the index where you want to insert the list2: -2\n",
            "updateed list will be:  [1, 2, 3, 4, 8, 5, 6, 7, 9, 10]\n"
          ]
        }
      ],
      "source": [
        "#Ques: Find the method to insert all the element of another sequence datatype at particular index in the list. But all the element must be inserted one by one.\n",
        "list1=[1,2,3,4,8,9,10]\n",
        "list2=[5,6,7]\n",
        "index=int(input(\"Enter the index where you want to insert the list2: \"))\n",
        "if(index<len(list1)):\n",
        "  a=list1[0:index]\n",
        "  b=list1[index::]\n",
        "  a.extend(list2)\n",
        "  list1.clear()\n",
        "  list1=a+b\n",
        "  print(\"Updateed list will be: \",list1)\n",
        "else:\n",
        "  print(\"Entered index\",index,\"is out of range\")\n",
        "\n"
      ]
    },
    {
      "cell_type": "code",
      "execution_count": null,
      "metadata": {
        "id": "NQPgIveuihGS",
        "colab": {
          "base_uri": "https://localhost:8080/"
        },
        "outputId": "34ed8d70-0b2c-45fc-9f00-621c8821513d"
      },
      "outputs": [
        {
          "output_type": "stream",
          "name": "stdout",
          "text": [
            "enter the index where you want to insert the list2: 5\n",
            "Updated list will be:  [1, 2, 3, 4, 8, 5, 6, 7, 9, 10]\n"
          ]
        }
      ],
      "source": [
        "#Ques: Find the method to insert all the element of another sequence datatype at particular index in the list. But all the element must be inserted one by one.\n",
        "list1=[1,2,3,4,8,9,10]\n",
        "list2=[5,6,7]\n",
        "index=int(input(\"enter the index where you want to insert the list2: \"))\n",
        "if(index>=0 and index<len(list1)):\n",
        "  for i in range(len(list2)):\n",
        "     list1.insert(index+i,list2[i])\n",
        "  print(\"Updated list will be: \",list1)\n",
        "elif(index<0 and index>=-len(list1)):\n",
        "  for i in range(len(list2)):\n",
        "     list1.insert(index,list2[i])\n",
        "  print(\"Updated list will be: \",list1)\n",
        "else:\n",
        "  print(\"Entered index\",index,\"is out of range\")\n",
        "\n"
      ]
    },
    {
      "cell_type": "markdown",
      "metadata": {
        "id": "gX--_5P24t9o"
      },
      "source": [
        "# **DAY:5**\n",
        "\n",
        "#**Tabulate module**\n",
        "* The Tabulate library or Module is used to Display the Data in the form of Row and Column.\n",
        "\n"
      ]
    },
    {
      "cell_type": "code",
      "execution_count": null,
      "metadata": {
        "colab": {
          "base_uri": "https://localhost:8080/"
        },
        "id": "PgWn4GL6wby7",
        "outputId": "da8ef90a-731d-4b84-8e12-b151dc5a97c3"
      },
      "outputs": [
        {
          "output_type": "stream",
          "name": "stdout",
          "text": [
            "+---------+----------------+------------+-------+---------+-----------+---------+-----------+------------+---------+\n",
            "| stdid   | stdname        | standard   |   Age |   Hindi |   English |   Maths |   Science |   Computer |   Total |\n",
            "+=========+================+============+=======+=========+===========+=========+===========+============+=========+\n",
            "| std101  | Ashish Kumar   | 10th       |    15 |      67 |        89 |      87 |        89 |         90 |     422 |\n",
            "+---------+----------------+------------+-------+---------+-----------+---------+-----------+------------+---------+\n",
            "| std102  | Abhishek Kumar | 10th       |    15 |      34 |        45 |      78 |        45 |         31 |     233 |\n",
            "+---------+----------------+------------+-------+---------+-----------+---------+-----------+------------+---------+\n",
            "| std103  | Aman           | 10th       |    15 |      56 |        56 |      78 |        78 |         45 |     313 |\n",
            "+---------+----------------+------------+-------+---------+-----------+---------+-----------+------------+---------+\n",
            "| std104  | Rahul          | 10th       |    15 |      78 |        67 |      89 |        89 |         78 |     402 |\n",
            "+---------+----------------+------------+-------+---------+-----------+---------+-----------+------------+---------+\n",
            "| std105  | Ruby           | 10th       |    13 |      89 |        56 |      45 |        45 |         67 |     302 |\n",
            "+---------+----------------+------------+-------+---------+-----------+---------+-----------+------------+---------+\n",
            "| std106  | Suman          | 10th       |    13 |      67 |        67 |      67 |        67 |         67 |     335 |\n",
            "+---------+----------------+------------+-------+---------+-----------+---------+-----------+------------+---------+\n",
            "| std107  | Saurabh        | 10th       |    15 |      45 |        23 |      45 |        78 |         67 |     258 |\n",
            "+---------+----------------+------------+-------+---------+-----------+---------+-----------+------------+---------+\n",
            "| std108  | Sumit          | 10th       |    15 |      89 |        90 |      89 |        90 |         45 |     403 |\n",
            "+---------+----------------+------------+-------+---------+-----------+---------+-----------+------------+---------+\n",
            "| std109  | Kamlesh        | 10th       |    15 |      78 |        45 |      78 |        78 |         78 |     337 |\n",
            "+---------+----------------+------------+-------+---------+-----------+---------+-----------+------------+---------+\n",
            "| std110  | Rohan          | 10th       |    15 |      12 |        24 |      45 |        56 |         34 |     171 |\n",
            "+---------+----------------+------------+-------+---------+-----------+---------+-----------+------------+---------+\n",
            "Students with English marks greater than 70:\n",
            "Ashish Kumar\n",
            "Aman\n",
            "Rahul\n",
            "Ruby\n",
            "Suman\n",
            "Sumit\n",
            "Student Name: Rahul, Age: 15\n",
            "Student Name: Sumit, Age: 15\n",
            "Student Name: Ashish Kumar, Age: 15\n",
            "Student Name: Abhishek Kumar, Age: 15\n",
            "Student Id: std108,Student Name: Sumit, Age: 15\n",
            "Student Id: std110,Student Name: Rohan, Age: 15\n",
            "Student Id: std102,Student Name: Abhishek Kumar, Age: 15\n"
          ]
        }
      ],
      "source": [
        "#tabulate modeule in python is used to convert the data in tabular form, In tabulate module tabulate function is used here in that question\n",
        "#Using LIST\n",
        "from tabulate import tabulate\n",
        "\n",
        "# Data from the spreadsheet\n",
        "data = [\n",
        "    [\"std101\", \"Ashish Kumar\", \"10th\", 15, 67, 89, 87, 89, 90, 422],\n",
        "    [\"std102\", \"Abhishek Kumar\", \"10th\", 15, 34, 45, 78, 45, 31, 233],\n",
        "    [\"std103\", \"Aman\", \"10th\", 15, 56, 56, 78, 78, 45, 313],\n",
        "    [\"std104\", \"Rahul\", \"10th\", 15, 78, 67, 89, 89, 78, 402],\n",
        "    [\"std105\", \"Ruby\", \"10th\", 13, 89, 56, 45, 45, 67, 302],\n",
        "    [\"std106\", \"Suman\", \"10th\", 13, 67, 67, 67, 67, 67, 335],\n",
        "    [\"std107\", \"Saurabh\", \"10th\", 15, 45, 23, 45, 78, 67, 258],\n",
        "    [\"std108\", \"Sumit\", \"10th\", 15, 89, 90, 89, 90, 45, 403],\n",
        "    [\"std109\", \"Kamlesh\", \"10th\", 15, 78, 45, 78, 78, 78, 337],\n",
        "    [\"std110\", \"Rohan\", \"10th\", 15, 12, 24, 45, 56, 34, 171]\n",
        "]\n",
        "\n",
        "# Define the headers\n",
        "headers = [\"stdid\", \"stdname\", \"standard\", \"Age\", \"Hindi\", \"English\", \"Maths\", \"Science\", \"Computer\", \"Total\"]\n",
        "\n",
        "# Print the table\n",
        "print(tabulate(data, headers=headers, tablefmt=\"grid\"))\n",
        "\n",
        "# Define the index for English marks\n",
        "english_index = 5\n",
        "\n",
        "# Find and print the names of students with English marks greater than 50 using a for loop\n",
        "print(\"Students with English marks greater than 70:\")\n",
        "for row in data:\n",
        "    if row[english_index] > 50:\n",
        "        print(row[1])\n",
        "\n",
        "# Extract student name, age, and Maths score\n",
        "relevant_data = [(row[1], row[3], row[6]) for row in data]\n",
        "\n",
        "# Sort the data by Maths score in descending order\n",
        "sorted_data = sorted(relevant_data, key=lambda x: x[2], reverse=True)\n",
        "\n",
        "# Select the top four students\n",
        "top_four = sorted_data[:4]\n",
        "\n",
        "# Print the top four students' names and ages\n",
        "for student in top_four:\n",
        "    print(f\"Student Name: {student[0]}, Age: {student[1]}\")\n",
        "\n",
        "# Extract student id,name, age, and computer score\n",
        "relevant_data = [(row[0], row[1],row[3], row[8]) for row in data]\n",
        "\n",
        "# Sort the data by computer score in descending order\n",
        "sorted_data = sorted(relevant_data, key=lambda x: x[3], reverse=True)\n",
        "\n",
        "# Select the bottom three students\n",
        "bottom_three = sorted_data[-3::]\n",
        "\n",
        "# Print the bottom three students id, names and ages\n",
        "for student in bottom_three:\n",
        "    print(f\"Student Id: { student[0]},Student Name: {student[1]}, Age: {student[2]}\")\n"
      ]
    },
    {
      "cell_type": "markdown",
      "metadata": {
        "id": "_N30GkClBmzN"
      },
      "source": [
        "#**TUPLE**\n",
        "* Tuple is a immutable and element is immutable.\n",
        "\n",
        "* Mainly used to read the data because the element of the tuple can not be changed.\n",
        "#**Creating a tuple**\n",
        "* Tuple can be created by using parenthesis\"()\".\n",
        "     \n",
        "     example:\n",
        "         a=(1,2,3,4,5)\n",
        "\n",
        "#**Access the Tuple**\n",
        "1.   **With format.**\n",
        "\n",
        "     example:\n",
        "\n",
        "       ```\n",
        "              a=(1,2,3,4,5)\n",
        "              print(a)\n",
        "```\n",
        "\n",
        "\n",
        "\n",
        "2.   **Without Format.**\n",
        "    \n",
        "     example:\n",
        "          \n",
        "              a=(1,2,3,4,5)\n",
        "              print(*a)\n",
        "\n",
        "\n",
        "\n",
        "\n",
        "\n",
        "\n",
        "\n",
        "3. **Using For Loop**\n",
        "  \n",
        "   example:\n",
        "```\n",
        "                 a=(1,2,3,4,5)\n",
        "                 for i in a:\n",
        "                    print(i)\n",
        "```\n",
        "\n",
        "\n",
        "\n",
        "4. **Using for loop but the element must be printed in same line**\n",
        "\n",
        "   example:\n",
        "                 a=(1,2,3,4,5)\n",
        "                 for i in a:\n",
        "                   print(i,end=',')\n",
        "\n",
        "\n",
        "\n"
      ]
    },
    {
      "cell_type": "code",
      "execution_count": null,
      "metadata": {
        "colab": {
          "base_uri": "https://localhost:8080/"
        },
        "id": "NHKhHQ-2Dzwm",
        "outputId": "89238184-b408-4832-a698-30d4da92e8ea"
      },
      "outputs": [
        {
          "name": "stdout",
          "output_type": "stream",
          "text": [
            "5,4,3,2,1,"
          ]
        }
      ],
      "source": [
        "# print the tuple in backward direction using forward indexing\n",
        "tuple=(1,2,3,4,5)\n",
        "x=len(tuple)-1\n",
        "for i in range(x,-1,-1):\n",
        "  print(tuple[i],end=',')"
      ]
    },
    {
      "cell_type": "code",
      "execution_count": null,
      "metadata": {
        "id": "-I4jd3AaFafr",
        "colab": {
          "base_uri": "https://localhost:8080/"
        },
        "outputId": "7b06b876-f1bb-4e21-86fd-1514c27f5587"
      },
      "outputs": [
        {
          "output_type": "stream",
          "name": "stdout",
          "text": [
            "[0, 1, 2, 4, 7, 9]\n"
          ]
        }
      ],
      "source": [
        "# We can not sort the tuple directly because it is immutable datatype\n",
        "# But we can sort the tuple by indirectly convert the tuple into the list and do perform the sorting in the list.\n",
        "a=(1,7,4,9,2,0)\n",
        "b=list(a)\n",
        "b.sort()\n",
        "tuple(b)\n",
        "print(b)"
      ]
    },
    {
      "cell_type": "markdown",
      "metadata": {
        "id": "MzWyI9xeIZZm"
      },
      "source": [
        "* Indexing is the problem in the list.\n",
        "\n",
        "* In list , index are immutable.\n",
        "\n",
        "* Integer is immutable.\n",
        "\n",
        "* In list , we have to find the index of the element ,so that we can access that data on that index\n",
        "\n",
        "**for this limitation we using DICTIONARY**\n",
        "\n",
        "#**DICTIONARY**\n",
        "* It is a collection of any type of a data.\n",
        "\n",
        "* Elements are sorted in (key:value) pair.\n",
        "\n",
        "* Keys must be unique\n",
        "\n",
        "* Keys must be immutable.\n",
        "\n",
        "* In this Indexing is done by the programmer. so, Dictionary is not follow the insertion order.\n",
        "\n",
        "syntax:\n",
        "       \n",
        "       dictionary={key1:value, key2:value}\n",
        "\n",
        "* key and value can be any datatype\n",
        "\n",
        "* new element can not be inserted in dictionary ,only element can be updated.\n",
        "\n",
        "#**INSERT ELEMENT IN DICTIONARY**\n",
        "1. If any element is present in dictionary with specified key, element get updated.\n",
        "\n",
        "Syntax:\n",
        "      \n",
        "      dict_name[key]=value\n",
        "2. If the element is not present in dictionary,then element get inserted in dictionary.\n",
        "\n",
        "Syntax:\n",
        "\n",
        "     dict_name[key]=value  \n",
        "\n",
        "* In dictionary , sorting can be possible either by using key or value.     "
      ]
    },
    {
      "cell_type": "code",
      "execution_count": null,
      "metadata": {
        "colab": {
          "base_uri": "https://localhost:8080/"
        },
        "id": "UG-Fl4FZKEWT",
        "outputId": "158998b7-cb95-40d1-f0bf-5994e61b5325"
      },
      "outputs": [
        {
          "output_type": "stream",
          "name": "stdout",
          "text": [
            "{'stdid': 'std101', 'stdname': 'Ashish Kumar', 'standard': '10th', 'age': 15}\n",
            "{'stdid': 'std101', 'stdname': 'Ashish Kumar', 'standard': '12th', 'age': 15, 'hindi': 78}\n",
            "stdid - std101\n",
            "stdname - Ashish Kumar\n",
            "standard - 12th\n",
            "age - 15\n",
            "hindi - 78\n",
            "keys: stdid\n",
            "keys: stdname\n",
            "keys: standard\n",
            "keys: age\n",
            "keys: hindi\n"
          ]
        }
      ],
      "source": [
        "#Creating a Dictionary\n",
        "student={'stdid':'std101','stdname': 'Ashish Kumar','standard': '10th','age': 15}\n",
        "print(student)\n",
        "#insert element with key standard\n",
        "student['standard']='12th'\n",
        "#insert an element with key hindi\n",
        "student['hindi']=78\n",
        "# To print the updated dictionary\n",
        "print(student)\n",
        "#print the keys of dictionary\n",
        "for key in student:\n",
        "  print(key,\"-\",student[key])\n",
        "#find the key of dictionary\n",
        "for key in student:\n",
        "  print(\"keys:\",key)"
      ]
    },
    {
      "cell_type": "markdown",
      "source": [
        "#**DELETION IN DICTIONARY**\n",
        "* In dictionary , there is no position of an element\n",
        "\n",
        "\n",
        "1.**pop() :** To delete an element with specified key.\n",
        "*            if we do not pass the key in pop(),then it gives an exception.\n",
        "    \n",
        "\n",
        " Syntax:\n",
        "\n",
        "        `dict_name.pop(key)`\n",
        "\n",
        "\n",
        "2. **To delete the last item:**\n",
        "    * **popitem():** To delete last key:value pair.\n",
        "\n",
        "* **keys():** It will return the keys of dictionary in List.\n",
        "\n",
        "      Syntax:\n",
        "            list_name= dict_name.keys()\n",
        "\n",
        "* **values() :**It will return the values of dictionary in list.\n",
        "\n",
        "      Syntax:\n",
        "            list_name= dict_name.keys()\n",
        "\n",
        "* **items():** It returns a list of items i.e.\n",
        "**Each item will be in the form of tuple with two member i.e. (Key,value)*\n",
        "  \n",
        "     Syntax:\n",
        "            list_var=dict_name.items()\n",
        "\n",
        "* **clear():** Remove all the elements from the dictionary.\n",
        "\n",
        "* **copy()**\n",
        "\n",
        "* **fromkeys() :** return a dictionary\n",
        "\n",
        "* **get():** returns the value of a specified key. It contain two parameter.\n",
        "      \n",
        "      example:\n",
        "             get('key','error message')\n",
        "\n",
        "* **setdefault():**\n",
        "\n",
        "* **update():** To update or insert multiple elements(key:value pair) in dictionary.\n",
        "    \n",
        "    Syntax:\n",
        "         dict1.update(dict2)                "
      ],
      "metadata": {
        "id": "S_ymyTz45zex"
      }
    },
    {
      "cell_type": "code",
      "source": [
        "student_data={'stdid':'std101','stdname': 'Ashish Kumar','standard': '10th','age': 15,'hindi':67,'English':89}\n",
        "#To display the dictionary\n",
        "print(student_data)\n",
        "#delete element having key as hindi\n",
        "student_data.pop('hindi')\n",
        "#To delete the last item in dictionary\n",
        "student_data.popitem()\n",
        "print(student_data)\n",
        "#to return the keys of all the element in List\n",
        "element_keys=student_data.keys()\n",
        "print(element_keys)\n",
        "#To return the values of all the element in List of a Dictionary\n",
        "element_values=student_data.values()\n",
        "print(element_values)\n",
        "#To return the a list of items\n",
        "dict_items=student_data.items()\n",
        "print(dict_items)\n",
        "#To find all the value of all the element\n",
        "for data in student_data.values():\n",
        "  print(data)\n",
        "print(\"------------*----------------*------------------*----------------\")\n",
        "x= student_data.get('maths')\n",
        "print(x)\n",
        "print('------------------*-------------------*---------------*------------')\n",
        "# Using update()\n",
        "dict1={'name':'Amit','Age':15,'standard':'10th'}\n",
        "print(dict1)\n",
        "dict2={'hindi':67,'Age':16,'standard':\"12th\",'English':67}\n",
        "print((dict2))\n",
        "# inserting all the element of the dict2 into dict1\n",
        "dict1.update(dict2)\n",
        "print(dict1)\n",
        "print('------------------*-------------------*---------------*------------')\n",
        "#Using fromkeys()\n",
        "x=dict1.fromkeys('english',16)\n",
        "print(x)\n",
        "y=dict1.fromkeys(dict1.keys(),dict1.values())\n",
        "print(y)\n",
        "z=dict1.fromkeys(dict1.keys(),16)\n",
        "print(z)\n",
        "print(\"-------------------*-----------------*----------------*----------------\")\n",
        "#To find the no. of element of a dictionary\n",
        "print(len(dict1))"
      ],
      "metadata": {
        "colab": {
          "base_uri": "https://localhost:8080/"
        },
        "id": "gt7Xdkc4-Z7d",
        "outputId": "354a93ee-de46-40d6-a9ab-2b5e19a0a43c"
      },
      "execution_count": null,
      "outputs": [
        {
          "output_type": "stream",
          "name": "stdout",
          "text": [
            "{'stdid': 'std101', 'stdname': 'Ashish Kumar', 'standard': '10th', 'age': 15, 'hindi': 67, 'English': 89}\n",
            "{'stdid': 'std101', 'stdname': 'Ashish Kumar', 'standard': '10th', 'age': 15}\n",
            "dict_keys(['stdid', 'stdname', 'standard', 'age'])\n",
            "dict_values(['std101', 'Ashish Kumar', '10th', 15])\n",
            "dict_items([('stdid', 'std101'), ('stdname', 'Ashish Kumar'), ('standard', '10th'), ('age', 15)])\n",
            "std101\n",
            "Ashish Kumar\n",
            "10th\n",
            "15\n",
            "------------*----------------*------------------*----------------\n",
            "None\n",
            "------------------*-------------------*---------------*------------\n",
            "{'name': 'Amit', 'Age': 15, 'standard': '10th'}\n",
            "{'hindi': 67, 'Age': 16, 'standard': '12th', 'English': 67}\n",
            "{'name': 'Amit', 'Age': 16, 'standard': '12th', 'hindi': 67, 'English': 67}\n",
            "------------------*-------------------*---------------*------------\n",
            "{'e': 16, 'n': 16, 'g': 16, 'l': 16, 'i': 16, 's': 16, 'h': 16}\n",
            "{'name': dict_values(['Amit', 16, '12th', 67, 67]), 'Age': dict_values(['Amit', 16, '12th', 67, 67]), 'standard': dict_values(['Amit', 16, '12th', 67, 67]), 'hindi': dict_values(['Amit', 16, '12th', 67, 67]), 'English': dict_values(['Amit', 16, '12th', 67, 67])}\n",
            "{'name': 16, 'Age': 16, 'standard': 16, 'hindi': 16, 'English': 16}\n",
            "-------------------*-----------------*----------------*----------------\n",
            "5\n"
          ]
        }
      ]
    },
    {
      "cell_type": "code",
      "source": [
        "from tabulate import tabulate\n",
        "# Using DICTIONARY\n",
        "# Data of the Student from Excel\n",
        "data = [\n",
        "    {\"stdid\": \"std101\", \"stdname\": \"Ashish Kumar\", \"standard\": \"10th\", \"Age\": 15, \"Hindi\": 67, \"English\": 89, \"Maths\": 87, \"Science\": 89, \"Computer\": 90, \"Total\": 422},\n",
        "    {\"stdid\": \"std102\", \"stdname\": \"Abhishek Kumar\", \"standard\": \"10th\", \"Age\": 15, \"Hindi\": 34, \"English\": 45, \"Maths\": 78, \"Science\": 45, \"Computer\": 31, \"Total\": 233},\n",
        "    {\"stdid\": \"std103\", \"stdname\": \"Aman\", \"standard\": \"10th\", \"Age\": 15, \"Hindi\": 56, \"English\": 56, \"Maths\": 78, \"Science\": 78, \"Computer\": 45, \"Total\": 313},\n",
        "    {\"stdid\": \"std104\", \"stdname\": \"Rahul\", \"standard\": \"10th\", \"Age\": 15, \"Hindi\": 78, \"English\": 67, \"Maths\": 89, \"Science\": 89, \"Computer\": 78, \"Total\": 402},\n",
        "    {\"stdid\": \"std105\", \"stdname\": \"Ruby\", \"standard\": \"10th\", \"Age\": 13, \"Hindi\": 89, \"English\": 56, \"Maths\": 45, \"Science\": 45, \"Computer\": 67, \"Total\": 302},\n",
        "    {\"stdid\": \"std106\", \"stdname\": \"Suman\", \"standard\": \"10th\", \"Age\": 13, \"Hindi\": 67, \"English\": 67, \"Maths\": 67, \"Science\": 67, \"Computer\": 67, \"Total\": 335},\n",
        "    {\"stdid\": \"std107\", \"stdname\": \"Saurabh\", \"standard\": \"10th\", \"Age\": 15, \"Hindi\": 45, \"English\": 23, \"Maths\": 45, \"Science\": 78, \"Computer\": 67, \"Total\": 258},\n",
        "    {\"stdid\": \"std108\", \"stdname\": \"Sumit\", \"standard\": \"10th\", \"Age\": 15, \"Hindi\": 89, \"English\": 90, \"Maths\": 89, \"Science\": 90, \"Computer\": 45, \"Total\": 403},\n",
        "    {\"stdid\": \"std109\", \"stdname\": \"Kamlesh\", \"standard\": \"10th\", \"Age\": 15, \"Hindi\": 78, \"English\": 45, \"Maths\": 78, \"Science\": 78, \"Computer\": 78, \"Total\": 337},\n",
        "    {\"stdid\": \"std110\", \"stdname\": \"Rohan\", \"standard\": \"10th\", \"Age\": 15, \"Hindi\": 12, \"English\": 24, \"Maths\": 45, \"Science\": 56, \"Computer\": 34, \"Total\": 171}\n",
        "]\n",
        "# To print the data in tabular form\n",
        "print(tabulate(data, headers=\"keys\", tablefmt=\"grid\"))\n",
        "# Initialize an empty list to store names of students\n",
        "filtered_students = []\n",
        "# To check if the student's English marks is greater than 50\n",
        "for student in data:\n",
        "    if student[\"English\"] > 50:\n",
        "        filtered_students.append(student[\"stdname\"])\n",
        "# Print the names of students\n",
        "print(\"Students whose marks in English are greater than 50:\")\n",
        "for name in filtered_students:\n",
        "    print(name)\n",
        "\n",
        "print(\"------------------*------------------*-----------------*------------------\")\n",
        "print(\"Name and Age of a student who are top four scorer in Maths:\")\n",
        "# Sort data based on Maths scores in descending order\n",
        "sorted_data = sorted(data, key=lambda x: x[\"Maths\"], reverse=True)\n",
        "top_four = sorted_data[0:4]\n",
        "# Prepare table data that contain the name and age of top four scorer of Maths\n",
        "table_data = [[student[\"stdname\"], student[\"Age\"]] for student in top_four]\n",
        "# Display the table_data in tabular form\n",
        "print(tabulate(table_data, headers=[\"Student Name\", \"Age\"], tablefmt=\"grid\"))\n",
        "\n",
        "print(\"------------------*------------------*-----------------*------------------\")\n",
        "print(\"Name, Id and Age of student who are bottom three scorer in Computer:\")\n",
        "# Sort data based on Computer scores in ascending order\n",
        "sorted_data = sorted(data, key=lambda x: x[\"Computer\"])\n",
        "bottom_three = sorted_data[:3]\n",
        "\n",
        "#Prepare table data that contain the Name ,Id and Age of bottom three scorer in Computer\n",
        "table_data = [[student[\"stdname\"], student[\"stdid\"], student[\"Age\"]] for student in bottom_three]\n",
        "# Display the table_data in tabular form\n",
        "print(tabulate(table_data, headers=[\"Student Name\", \"Student ID\", \"Age\"], tablefmt=\"grid\"))\n",
        "\n",
        "\n",
        "\n"
      ],
      "metadata": {
        "colab": {
          "base_uri": "https://localhost:8080/"
        },
        "id": "Q68sPLF5wqYJ",
        "outputId": "c85f3a1c-6d36-4b08-921b-bbe52e2999ab"
      },
      "execution_count": null,
      "outputs": [
        {
          "output_type": "stream",
          "name": "stdout",
          "text": [
            "+---------+----------------+------------+-------+---------+-----------+---------+-----------+------------+---------+\n",
            "| stdid   | stdname        | standard   |   Age |   Hindi |   English |   Maths |   Science |   Computer |   Total |\n",
            "+=========+================+============+=======+=========+===========+=========+===========+============+=========+\n",
            "| std101  | Ashish Kumar   | 10th       |    15 |      67 |        89 |      87 |        89 |         90 |     422 |\n",
            "+---------+----------------+------------+-------+---------+-----------+---------+-----------+------------+---------+\n",
            "| std102  | Abhishek Kumar | 10th       |    15 |      34 |        45 |      78 |        45 |         31 |     233 |\n",
            "+---------+----------------+------------+-------+---------+-----------+---------+-----------+------------+---------+\n",
            "| std103  | Aman           | 10th       |    15 |      56 |        56 |      78 |        78 |         45 |     313 |\n",
            "+---------+----------------+------------+-------+---------+-----------+---------+-----------+------------+---------+\n",
            "| std104  | Rahul          | 10th       |    15 |      78 |        67 |      89 |        89 |         78 |     402 |\n",
            "+---------+----------------+------------+-------+---------+-----------+---------+-----------+------------+---------+\n",
            "| std105  | Ruby           | 10th       |    13 |      89 |        56 |      45 |        45 |         67 |     302 |\n",
            "+---------+----------------+------------+-------+---------+-----------+---------+-----------+------------+---------+\n",
            "| std106  | Suman          | 10th       |    13 |      67 |        67 |      67 |        67 |         67 |     335 |\n",
            "+---------+----------------+------------+-------+---------+-----------+---------+-----------+------------+---------+\n",
            "| std107  | Saurabh        | 10th       |    15 |      45 |        23 |      45 |        78 |         67 |     258 |\n",
            "+---------+----------------+------------+-------+---------+-----------+---------+-----------+------------+---------+\n",
            "| std108  | Sumit          | 10th       |    15 |      89 |        90 |      89 |        90 |         45 |     403 |\n",
            "+---------+----------------+------------+-------+---------+-----------+---------+-----------+------------+---------+\n",
            "| std109  | Kamlesh        | 10th       |    15 |      78 |        45 |      78 |        78 |         78 |     337 |\n",
            "+---------+----------------+------------+-------+---------+-----------+---------+-----------+------------+---------+\n",
            "| std110  | Rohan          | 10th       |    15 |      12 |        24 |      45 |        56 |         34 |     171 |\n",
            "+---------+----------------+------------+-------+---------+-----------+---------+-----------+------------+---------+\n",
            "Students whose marks in English are greater than 50:\n",
            "Ashish Kumar\n",
            "Aman\n",
            "Rahul\n",
            "Ruby\n",
            "Suman\n",
            "Sumit\n",
            "------------------*------------------*-----------------*------------------\n",
            "Name and Age of a student who are top four scorer in Maths:\n",
            "+----------------+-------+\n",
            "| Student Name   |   Age |\n",
            "+================+=======+\n",
            "| Rahul          |    15 |\n",
            "+----------------+-------+\n",
            "| Sumit          |    15 |\n",
            "+----------------+-------+\n",
            "| Ashish Kumar   |    15 |\n",
            "+----------------+-------+\n",
            "| Abhishek Kumar |    15 |\n",
            "+----------------+-------+\n",
            "------------------*------------------*-----------------*------------------\n",
            "Name, Id and Age of student who are bottom three scorer in Computer:\n",
            "+----------------+--------------+-------+\n",
            "| Student Name   | Student ID   |   Age |\n",
            "+================+==============+=======+\n",
            "| Abhishek Kumar | std102       |    15 |\n",
            "+----------------+--------------+-------+\n",
            "| Rohan          | std110       |    15 |\n",
            "+----------------+--------------+-------+\n",
            "| Aman           | std103       |    15 |\n",
            "+----------------+--------------+-------+\n"
          ]
        }
      ]
    },
    {
      "cell_type": "markdown",
      "source": [],
      "metadata": {
        "id": "8woJr3yGCfNP"
      }
    }
  ],
  "metadata": {
    "colab": {
      "provenance": []
    },
    "kernelspec": {
      "display_name": "Python 3",
      "name": "python3"
    },
    "language_info": {
      "name": "python"
    }
  },
  "nbformat": 4,
  "nbformat_minor": 0
}